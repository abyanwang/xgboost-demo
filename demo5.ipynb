{
 "cells": [
  {
   "cell_type": "code",
   "execution_count": 1,
   "metadata": {},
   "outputs": [],
   "source": [
    "from sklearn.ensemble import GradientBoostingRegressor\n",
    "# 导入均方误差计算\n",
    "from sklearn.metrics import mean_squared_error\n",
    "# 导入标准化模块包\n",
    "from sklearn.preprocessing import RobustScaler\n",
    "# 导入划分数据集包，交叉验证包\n",
    "from sklearn.model_selection import train_test_split,KFold,cross_val_score\n",
    "# 导入Xgboost算法包\n",
    "import xgboost as xgb\n",
    "from  sklearn import datasets \n",
    "import pandas as pd \n",
    "import xgboost as xgb\n",
    "import numpy as np\n",
    "from sklearn.metrics import mean_squared_error\n",
    "from sklearn.model_selection import train_test_split\n",
    "import matplotlib.pyplot as plt\n",
    "import seaborn as sns\n",
    "from sklearn import preprocessing  \n",
    "from sklearn.preprocessing import LabelEncoder\n",
    "from sklearn.model_selection import GridSearchCV\n",
    "\n",
    "from sklearn.compose import ColumnTransformer  \n",
    "from sklearn.preprocessing import OneHotEncoder, StandardScaler  "
   ]
  },
  {
   "cell_type": "code",
   "execution_count": 2,
   "metadata": {},
   "outputs": [
    {
     "name": "stdout",
     "output_type": "stream",
     "text": [
      "0       208500\n",
      "1       181500\n",
      "2       223500\n",
      "3       140000\n",
      "4       250000\n",
      "         ...  \n",
      "1455    175000\n",
      "1456    210000\n",
      "1457    266500\n",
      "1458    142125\n",
      "1459    147500\n",
      "Name: SalePrice, Length: 1460, dtype: int64\n",
      "----------------\n"
     ]
    }
   ],
   "source": [
    "dataset_df = pd.read_csv('./house-prices-advanced-regression-techniques/train.csv')\n",
    "test_df = pd.read_csv('./house-prices-advanced-regression-techniques/test.csv')\n",
    "# dataset_df.pop('Id')\n",
    "# test_df.pop('Id')\n",
    "\n",
    "\n",
    "# def handle_missing_values(df):\n",
    "#     num_cols = [cname for cname in df.columns if df[cname].dtype in ['int64', 'float64']]\n",
    "#     cat_cols = [cname for cname in df.columns if df[cname].dtype == \"object\"]\n",
    "#     values = {}\n",
    "#     for a in cat_cols:\n",
    "#         values[a] = 'UNKNOWN'\n",
    "#     for a in num_cols:\n",
    "#         values[a] = df[a].median()\n",
    "#     df.fillna(value=values, inplace=True)\n",
    "    \n",
    "    \n",
    "# handle_missing_values(dataset_df)\n",
    "# handle_missing_values(test_df)\n",
    "\n",
    "# print(dataset_df)\n",
    "\n",
    "print(dataset_df['SalePrice'])\n",
    "print('----------------')\n",
    "\n",
    "y = dataset_df.pop('SalePrice')\n",
    "# print(dataset_df.drop('SalePrice'))\n",
    "# print(test_df)\n",
    "all_data = pd.concat([dataset_df, test_df],axis=0)\n",
    "# print(all_data)\n",
    "# all_data = pd.get_dummies(all_data)\n",
    "# print(all_data.columns)\n",
    "\n",
    "# num_cols = [cname for cname in dataset_df.columns if dataset_df[cname].dtype in ['int64', 'float64']]\n",
    "# cat_cols = [cname for cname in dataset_df.columns if dataset_df[cname].dtype == \"object\"]\n",
    "    \n"
   ]
  },
  {
   "cell_type": "code",
   "execution_count": 3,
   "metadata": {},
   "outputs": [
    {
     "name": "stdout",
     "output_type": "stream",
     "text": [
      "2919\n",
      "80\n",
      "80\n"
     ]
    }
   ],
   "source": [
    "print(len(all_data))\n",
    "print(dataset_df.columns.size)\n",
    "print(test_df.columns.size)"
   ]
  },
  {
   "cell_type": "code",
   "execution_count": 4,
   "metadata": {},
   "outputs": [],
   "source": [
    "def handle_missing_values(df):\n",
    "    num_cols = [cname for cname in df.columns if df[cname].dtype in ['int64', 'float64']]\n",
    "    cat_cols = [cname for cname in df.columns if df[cname].dtype == \"object\"]\n",
    "    values = {}\n",
    "    for a in cat_cols:\n",
    "        values[a] = 'UNKNOWN'\n",
    "    for a in num_cols:\n",
    "        values[a] = df[a].median()\n",
    "    df.fillna(value=values, inplace=True)\n",
    "    \n",
    "\n",
    "handle_missing_values(all_data)\n",
    "\n",
    "all_data = pd.get_dummies(all_data)"
   ]
  },
  {
   "cell_type": "code",
   "execution_count": 5,
   "metadata": {},
   "outputs": [
    {
     "data": {
      "text/plain": [
       "2919"
      ]
     },
     "execution_count": 5,
     "metadata": {},
     "output_type": "execute_result"
    }
   ],
   "source": [
    "all_data\n",
    "len(all_data)"
   ]
  },
  {
   "cell_type": "code",
   "execution_count": 20,
   "metadata": {},
   "outputs": [],
   "source": [
    "train = all_data[all_data['Id'] < 1461]\n",
    "train.pop('Id')\n",
    "\n",
    "test = all_data[all_data['Id'] >= 1461]\n",
    "Id = test.pop('Id')"
   ]
  },
  {
   "cell_type": "code",
   "execution_count": 18,
   "metadata": {},
   "outputs": [
    {
     "name": "stdout",
     "output_type": "stream",
     "text": [
      "Fitting 5 folds for each of 5 candidates, totalling 25 fits\n",
      "每轮迭代运行结果:[0.8852689  0.8965886  0.89923674 0.88973721 0.87500432]\n",
      "参数的最佳取值：{'learning_rate': 0.07}\n",
      "最佳模型得分:0.8992367382840651\n",
      "XGBRegressor(base_score=None, booster=None, callbacks=None,\n",
      "             colsample_bylevel=None, colsample_bynode=None,\n",
      "             colsample_bytree=0.6, early_stopping_rounds=None,\n",
      "             enable_categorical=False, eval_metric=None, feature_types=None,\n",
      "             gamma=0.1, gpu_id=None, grow_policy=None, importance_type=None,\n",
      "             interaction_constraints=None, learning_rate=0.07, max_bin=None,\n",
      "             max_cat_threshold=None, max_cat_to_onehot=None,\n",
      "             max_delta_step=None, max_depth=4, max_leaves=None,\n",
      "             min_child_weight=3, missing=nan, monotone_constraints=None,\n",
      "             n_estimators=800, n_jobs=None, num_parallel_tree=None,\n",
      "             predictor=None, random_state=None, ...)\n"
     ]
    }
   ],
   "source": [
    "cv_params = {'learning_rate': [0.01, 0.05, 0.07, 0.1, 0.2]}\n",
    "other_params = {'learning_rate': 0.07, 'n_estimators': 800, 'max_depth': 4, 'min_child_weight': 3, 'seed': 0,\n",
    "                    'subsample': 0.6, 'colsample_bytree': 0.6, 'gamma': 0.1, 'reg_alpha': 3, 'reg_lambda': 1}\n",
    "\n",
    "model = xgb.XGBRegressor(**other_params)\n",
    "optimized_GBM = GridSearchCV(estimator=model, param_grid=cv_params, scoring='r2', cv=5, verbose=1, n_jobs=4)\n",
    "\n",
    "optimized_GBM.fit(train, y)\n",
    "evalute_result = optimized_GBM.cv_results_['mean_test_score']\n",
    "print('每轮迭代运行结果:{0}'.format(evalute_result))\n",
    "print('参数的最佳取值：{0}'.format(optimized_GBM.best_params_))\n",
    "print('最佳模型得分:{0}'.format(optimized_GBM.best_score_))\n",
    "\n",
    "\n",
    "print(optimized_GBM.best_estimator_)"
   ]
  },
  {
   "cell_type": "code",
   "execution_count": 23,
   "metadata": {},
   "outputs": [
    {
     "name": "stdout",
     "output_type": "stream",
     "text": [
      "        Id      SalePrice\n",
      "0     1461  128944.609375\n",
      "1     1462  165491.031250\n",
      "2     1463  186386.656250\n",
      "3     1464  197812.125000\n",
      "4     1465  181064.828125\n",
      "...    ...            ...\n",
      "1454  2915   83923.789062\n",
      "1455  2916   76248.320312\n",
      "1456  2917  177560.671875\n",
      "1457  2918  112513.664062\n",
      "1458  2919  220990.953125\n",
      "\n",
      "[1459 rows x 2 columns]\n"
     ]
    }
   ],
   "source": [
    "pred = optimized_GBM.best_estimator_.predict(test)\n",
    "\n",
    "out = {\n",
    "    'Id':Id,\n",
    "    'SalePrice':pred\n",
    "}\n",
    "\n",
    "out = pd.DataFrame(out)\n",
    "\n",
    "print(out)\n",
    "\n",
    "out.to_csv('submisson1.csv',index=False)"
   ]
  }
 ],
 "metadata": {
  "kernelspec": {
   "display_name": "base",
   "language": "python",
   "name": "python3"
  },
  "language_info": {
   "codemirror_mode": {
    "name": "ipython",
    "version": 3
   },
   "file_extension": ".py",
   "mimetype": "text/x-python",
   "name": "python",
   "nbconvert_exporter": "python",
   "pygments_lexer": "ipython3",
   "version": "3.9.7"
  },
  "orig_nbformat": 4,
  "vscode": {
   "interpreter": {
    "hash": "40d3a090f54c6569ab1632332b64b2c03c39dcf918b08424e98f38b5ae0af88f"
   }
  }
 },
 "nbformat": 4,
 "nbformat_minor": 2
}
