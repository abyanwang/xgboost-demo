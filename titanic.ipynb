{
 "cells": [
  {
   "cell_type": "code",
   "execution_count": 32,
   "metadata": {},
   "outputs": [],
   "source": [
    "from sklearn.ensemble import GradientBoostingRegressor\n",
    "# 导入均方误差计算\n",
    "from sklearn.metrics import mean_squared_error\n",
    "# 导入标准化模块包\n",
    "from sklearn.preprocessing import RobustScaler\n",
    "# 导入划分数据集包，交叉验证包\n",
    "from sklearn.model_selection import train_test_split,KFold,cross_val_score\n",
    "# 导入Xgboost算法包\n",
    "import xgboost as xgb\n",
    "from  sklearn import datasets \n",
    "import pandas as pd \n",
    "import xgboost as xgb\n",
    "import numpy as np\n",
    "from sklearn.metrics import mean_squared_error\n",
    "from sklearn.model_selection import train_test_split\n",
    "import matplotlib.pyplot as plt\n",
    "import seaborn as sns\n",
    "from sklearn import preprocessing  \n",
    "from sklearn.preprocessing import LabelEncoder\n",
    "from sklearn.model_selection import GridSearchCV\n",
    "\n",
    "from sklearn.compose import ColumnTransformer  \n",
    "from sklearn.preprocessing import OneHotEncoder, StandardScaler  \n",
    "from sklearn.ensemble import RandomForestClassifier"
   ]
  },
  {
   "cell_type": "code",
   "execution_count": 18,
   "metadata": {},
   "outputs": [],
   "source": [
    "dataset_df = pd.read_csv('./titanic/train.csv')\n",
    "test_df = pd.read_csv('./titanic/test.csv')\n",
    "\n",
    "y = dataset_df.pop('Survived')"
   ]
  },
  {
   "cell_type": "code",
   "execution_count": 19,
   "metadata": {},
   "outputs": [],
   "source": [
    "features = [\"PassengerId\",\"Pclass\", \"Sex\", \"SibSp\", \"Parch\"]\n",
    "train = dataset_df[features]\n",
    "test = test_df[features]\n",
    "\n",
    "all_data = pd.concat([train, test],axis=0)\n"
   ]
  },
  {
   "cell_type": "code",
   "execution_count": 20,
   "metadata": {},
   "outputs": [],
   "source": [
    "def handle_missing_values(df):\n",
    "    num_cols = [cname for cname in df.columns if df[cname].dtype in ['int64', 'float64']]\n",
    "    cat_cols = [cname for cname in df.columns if df[cname].dtype == \"object\"]\n",
    "    values = {}\n",
    "    for a in cat_cols:\n",
    "        values[a] = 'UNKNOWN'\n",
    "    for a in num_cols:\n",
    "        values[a] = df[a].median()\n",
    "    df.fillna(value=values, inplace=True)\n",
    "    \n",
    "\n",
    "handle_missing_values(all_data)\n",
    "\n",
    "all_data = pd.get_dummies(all_data)"
   ]
  },
  {
   "cell_type": "code",
   "execution_count": 21,
   "metadata": {},
   "outputs": [],
   "source": [
    "train = all_data[all_data['PassengerId'] < 892]\n",
    "train.pop('PassengerId')\n",
    "\n",
    "test = all_data[all_data['PassengerId'] >= 892]\n",
    "Id = test.pop('PassengerId')"
   ]
  },
  {
   "cell_type": "code",
   "execution_count": 36,
   "metadata": {},
   "outputs": [
    {
     "data": {
      "text/plain": [
       "RandomForestClassifier(class_weight='balanced', max_depth=13, n_estimators=30,\n",
       "                       n_jobs=-1, random_state=0)"
      ]
     },
     "execution_count": 36,
     "metadata": {},
     "output_type": "execute_result"
    }
   ],
   "source": [
    "randomForest = RandomForestClassifier(n_estimators = 30,  \n",
    "                                max_depth=13, class_weight='balanced', n_jobs=-1, \n",
    "                                   random_state=0)\n",
    "randomForest.fit(train, y)"
   ]
  },
  {
   "cell_type": "code",
   "execution_count": 35,
   "metadata": {},
   "outputs": [
    {
     "name": "stdout",
     "output_type": "stream",
     "text": [
      "Fitting 5 folds for each of 3 candidates, totalling 15 fits\n",
      "每轮迭代运行结果:[0.85081784 0.84910646 0.85050047]\n",
      "参数的最佳取值：{'learning_rate': 0.31}\n",
      "最佳模型得分:0.8508178366171866\n",
      "XGBClassifier(base_score=None, booster=None, callbacks=None,\n",
      "              colsample_bylevel=None, colsample_bynode=None,\n",
      "              colsample_bytree=0.6, early_stopping_rounds=None,\n",
      "              enable_categorical=False, eval_metric=None, feature_types=None,\n",
      "              gamma=0.1, gpu_id=None, grow_policy=None, importance_type=None,\n",
      "              interaction_constraints=None, learning_rate=0.31, max_bin=None,\n",
      "              max_cat_threshold=None, max_cat_to_onehot=None,\n",
      "              max_delta_step=None, max_depth=5, max_leaves=None,\n",
      "              min_child_weight=1, missing=nan, monotone_constraints=None,\n",
      "              n_estimators=600, n_jobs=None, num_class=2,\n",
      "              num_parallel_tree=None, objective='multi:softmax', ...)\n"
     ]
    }
   ],
   "source": [
    "cv_params = {'learning_rate':[0.31, 0.311, 0.312]}\n",
    "other_params = {'learning_rate': 0.31, 'n_estimators': 600, 'max_depth': 5, 'min_child_weight': 1, 'seed': 0,\n",
    "                    'subsample': 0.6, 'colsample_bytree': 0.6, 'gamma': 0.1, 'reg_alpha': 3, 'reg_lambda': 1, 'objective': 'multi:softmax', 'num_class':2}\n",
    "\n",
    "model = xgb.XGBClassifier(**other_params)\n",
    "optimized_GBM = GridSearchCV(estimator=model, param_grid=cv_params, scoring='roc_auc', cv=5, verbose=1, n_jobs=4)\n",
    "\n",
    "optimized_GBM.fit(train, y)\n",
    "evalute_result = optimized_GBM.cv_results_['mean_test_score']\n",
    "print('每轮迭代运行结果:{0}'.format(evalute_result))\n",
    "print('参数的最佳取值：{0}'.format(optimized_GBM.best_params_))\n",
    "print('最佳模型得分:{0}'.format(optimized_GBM.best_score_))\n",
    "\n",
    "\n",
    "print(optimized_GBM.best_estimator_)"
   ]
  },
  {
   "cell_type": "code",
   "execution_count": 37,
   "metadata": {},
   "outputs": [
    {
     "name": "stdout",
     "output_type": "stream",
     "text": [
      "     PassengerId  Survived\n",
      "0            892         0\n",
      "1            893         1\n",
      "2            894         0\n",
      "3            895         0\n",
      "4            896         1\n",
      "..           ...       ...\n",
      "413         1305         0\n",
      "414         1306         1\n",
      "415         1307         0\n",
      "416         1308         0\n",
      "417         1309         0\n",
      "\n",
      "[418 rows x 2 columns]\n"
     ]
    }
   ],
   "source": [
    "pred = randomForest.predict(test)\n",
    "\n",
    "out = {\n",
    "    'PassengerId':Id,\n",
    "    'Survived':pred\n",
    "}\n",
    "\n",
    "out = pd.DataFrame(out)\n",
    "\n",
    "print(out)\n",
    "\n",
    "out.to_csv('submisson_titanic.csv',index=False)"
   ]
  }
 ],
 "metadata": {
  "kernelspec": {
   "display_name": "base",
   "language": "python",
   "name": "python3"
  },
  "language_info": {
   "codemirror_mode": {
    "name": "ipython",
    "version": 3
   },
   "file_extension": ".py",
   "mimetype": "text/x-python",
   "name": "python",
   "nbconvert_exporter": "python",
   "pygments_lexer": "ipython3",
   "version": "3.9.7"
  },
  "orig_nbformat": 4,
  "vscode": {
   "interpreter": {
    "hash": "40d3a090f54c6569ab1632332b64b2c03c39dcf918b08424e98f38b5ae0af88f"
   }
  }
 },
 "nbformat": 4,
 "nbformat_minor": 2
}
